{
  "nbformat": 4,
  "nbformat_minor": 0,
  "metadata": {
    "colab": {
      "name": "Unit2_L6_Dictionaries.ipynb",
      "provenance": [],
      "collapsed_sections": [],
      "authorship_tag": "ABX9TyNRHovBgFA/BAAAncFMgdfd"
    },
    "kernelspec": {
      "name": "python3",
      "display_name": "Python 3"
    }
  },
  "cells": [
    {
      "cell_type": "code",
      "metadata": {
        "id": "QyfXwLlegHxT"
      },
      "source": [
        "#Create a simple dictionary that stores 2 variables, for example: first and last name.\r\n",
        "full_name = {'first_name': 'Gerald', 'last_name': 'Smith'}"
      ],
      "execution_count": 71,
      "outputs": []
    },
    {
      "cell_type": "code",
      "metadata": {
        "colab": {
          "base_uri": "https://localhost:8080/"
        },
        "id": "-Ih8mRorjJzT",
        "outputId": "d2926ac4-b215-4b17-ca60-4285b10e58a0"
      },
      "source": [
        "#Print out those variables stored in your previous dictionary.\r\n",
        "print(full_name['first_name'] + ' ' + full_name['last_name'])"
      ],
      "execution_count": 72,
      "outputs": [
        {
          "output_type": "stream",
          "text": [
            "Gerald Smith\n"
          ],
          "name": "stdout"
        }
      ]
    },
    {
      "cell_type": "code",
      "metadata": {
        "colab": {
          "base_uri": "https://localhost:8080/"
        },
        "id": "m9x1fq4Wjobr",
        "outputId": "cfd69e3c-6dc7-4d52-e03e-b4f9cadf93f2"
      },
      "source": [
        "#Add a message to those variables on printing: for example: “Hello, firstname lastname!”\r\n",
        "print('Hello, ' + full_name['first_name'] + ' ' + full_name['last_name'] + '!')"
      ],
      "execution_count": 73,
      "outputs": [
        {
          "output_type": "stream",
          "text": [
            "Hello, Gerald Smith!\n"
          ],
          "name": "stdout"
        }
      ]
    },
    {
      "cell_type": "code",
      "metadata": {
        "colab": {
          "base_uri": "https://localhost:8080/"
        },
        "id": "2oPtNChylFyA",
        "outputId": "64d1f458-e990-4626-be2e-dbd9948538b3"
      },
      "source": [
        "#Create a dictionary that holds 2 key: value pairs:\r\n",
        "#Look through your dictionary and print each pair\r\n",
        "\r\n",
        "movies = {'movie_title': 'Avengers', 'type': 'Action'}\r\n",
        "print(movies)"
      ],
      "execution_count": 74,
      "outputs": [
        {
          "output_type": "stream",
          "text": [
            "{'movie_title': 'Avengers', 'type': 'Action'}\n"
          ],
          "name": "stdout"
        }
      ]
    },
    {
      "cell_type": "code",
      "metadata": {
        "colab": {
          "base_uri": "https://localhost:8080/"
        },
        "id": "L1Gj7t3onGfT",
        "outputId": "dce0e8eb-14e7-471f-ebb4-4bdf19d23bcb"
      },
      "source": [
        "#Create a nested dictionary containing three dictionaries – these dictionaries could be anything (favorite pets, travel locations, etc.)\r\n",
        "#Loop through the dictionaries and print a message for each.\r\n",
        "\r\n",
        "favorite_movies = [{'Movies': 'Avengers', 'Type': 'Action'}, \r\n",
        "                   {'Movies': 'Parasite', 'Type': 'Thriller'}, \r\n",
        "                   {'Movies': 'Inception', 'Type': 'Science-Fiction'}]\r\n",
        "\r\n",
        "for movie in favorite_movies:\r\n",
        "  title = movie['Movies']\r\n",
        "  genre = movie['Type']\r\n",
        "\r\n",
        "  print(title + ', ' + genre + ', is one of my favorite movies')\r\n",
        "  "
      ],
      "execution_count": 70,
      "outputs": [
        {
          "output_type": "stream",
          "text": [
            "Avengers, Action, is one of my favorite movies\n",
            "Parasite, Thriller, is one of my favorite movies\n",
            "Inception, Science-Fiction, is one of my favorite movies\n"
          ],
          "name": "stdout"
        }
      ]
    }
  ]
}