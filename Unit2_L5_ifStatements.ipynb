{
  "nbformat": 4,
  "nbformat_minor": 0,
  "metadata": {
    "colab": {
      "name": "Unit2_L5_ifStatements.ipynb",
      "provenance": [],
      "collapsed_sections": [],
      "authorship_tag": "ABX9TyP/doKUCwVdsihr/KG2u+ro"
    },
    "kernelspec": {
      "name": "python3",
      "display_name": "Python 3"
    }
  },
  "cells": [
    {
      "cell_type": "code",
      "metadata": {
        "colab": {
          "base_uri": "https://localhost:8080/"
        },
        "id": "Z8Lf5vdCeBW-",
        "outputId": "55b94322-48b2-4cf2-f9c1-c6cc179e4bba"
      },
      "source": [
        "#Make a list of 5 or more usernames, including an admin account. Imagine you are writing code that will welcome people to your application on login. Loop through the list and print your greeting.\r\n",
        "#a. If the admin account logs in, give them a special greeting. They're the admin, after all!\r\n",
        "#b. Other users can get the generic greeting\r\n",
        "\r\n",
        "usernames = ['Admin', 'John', 'Corey', 'Michael', 'Jessica']\r\n",
        "username = input('Please enter your username: ')\r\n",
        "message = 'Welcome back user!'\r\n",
        "\r\n",
        "if username == 'Admin':\r\n",
        "  print('Welcome back Admin! How are you doing today?')\r\n",
        "else:\r\n",
        "  print(message)"
      ],
      "execution_count": 7,
      "outputs": [
        {
          "output_type": "stream",
          "text": [
            "Please enter your username: Brian\n",
            "Welcome back user!\n"
          ],
          "name": "stdout"
        }
      ]
    },
    {
      "cell_type": "code",
      "metadata": {
        "colab": {
          "base_uri": "https://localhost:8080/"
        },
        "id": "ELJpOvlTjXO_",
        "outputId": "ce5d15f2-f352-47a1-a48d-e2f40b276a44"
      },
      "source": [
        "#Store numbers 1-10 in a list\r\n",
        "#a. Loop through the list\r\n",
        "#b. Use an if-elif-else chain inside your loop to print the ordinal ending for each number – for example – 1 st , 2 nd , 3 rd … etc.\r\n",
        "\r\n",
        "list = range(1,11)\r\n",
        "\r\n",
        "for number in list:\r\n",
        "  if number == 1:\r\n",
        "    print('1st')\r\n",
        "  elif number == 2:\r\n",
        "    print('2nd')\r\n",
        "  elif number == 3:\r\n",
        "    print('3rd')\r\n",
        "  else:\r\n",
        "    print(str(number) + 'th')"
      ],
      "execution_count": 11,
      "outputs": [
        {
          "output_type": "stream",
          "text": [
            "1st\n",
            "2nd\n",
            "3rd\n",
            "4th\n",
            "5th\n",
            "6th\n",
            "7th\n",
            "8th\n",
            "9th\n",
            "10th\n"
          ],
          "name": "stdout"
        }
      ]
    }
  ]
}