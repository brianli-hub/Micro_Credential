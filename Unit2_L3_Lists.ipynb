{
  "nbformat": 4,
  "nbformat_minor": 0,
  "metadata": {
    "colab": {
      "name": "Unit2_L3_Lists.ipynb",
      "provenance": [],
      "authorship_tag": "ABX9TyONUXT6JVGeJJVWdKjf5nis"
    },
    "kernelspec": {
      "name": "python3",
      "display_name": "Python 3"
    }
  },
  "cells": [
    {
      "cell_type": "code",
      "metadata": {
        "id": "kwR_qstvoiak"
      },
      "source": [
        "#Create a list of 5 of your favorite tv shows.\r\n",
        "list = ['The Walking Dead', 'The Vampire Diaries', 'Lost', 'Breaking Bad', 'The boys']"
      ],
      "execution_count": null,
      "outputs": []
    },
    {
      "cell_type": "code",
      "metadata": {
        "colab": {
          "base_uri": "https://localhost:8080/"
        },
        "id": "5cdIlGwCpJWx",
        "outputId": "b0f7eb58-568e-4986-b7ff-bd5c7189730b"
      },
      "source": [
        "#Print the list in its original order.\r\n",
        "print(list)"
      ],
      "execution_count": null,
      "outputs": [
        {
          "output_type": "stream",
          "text": [
            "['The Walking Dead', 'The Vampire Diaries', 'Lost', 'Breaking Bad', 'The boys']\n"
          ],
          "name": "stdout"
        }
      ]
    },
    {
      "cell_type": "code",
      "metadata": {
        "colab": {
          "base_uri": "https://localhost:8080/"
        },
        "id": "ZUhMPyNMpOYe",
        "outputId": "5e999c36-ec94-48f6-fa28-c0ed18c15f23"
      },
      "source": [
        "#Use the sorted() function to print the list in alphabetical order. How is sorted() different from sort()?\r\n",
        "print(sorted(list))"
      ],
      "execution_count": null,
      "outputs": [
        {
          "output_type": "stream",
          "text": [
            "['Breaking Bad', 'Lost', 'The Vampire Diaries', 'The Walking Dead', 'The boys']\n"
          ],
          "name": "stdout"
        }
      ]
    },
    {
      "cell_type": "markdown",
      "metadata": {
        "id": "UIFrk4Cxp2YL"
      },
      "source": [
        "Sorted() is different from sort() because sorted() will create a new list of the sorted version while sort() will just modify the list that it is called upon"
      ]
    },
    {
      "cell_type": "code",
      "metadata": {
        "colab": {
          "base_uri": "https://localhost:8080/"
        },
        "id": "2Z1baYWZpo_1",
        "outputId": "048b2559-249d-41f3-87a9-43613b661fd5"
      },
      "source": [
        "print(list)"
      ],
      "execution_count": null,
      "outputs": [
        {
          "output_type": "stream",
          "text": [
            "['The Walking Dead', 'The Vampire Diaries', 'Lost', 'Breaking Bad', 'The boys']\n"
          ],
          "name": "stdout"
        }
      ]
    },
    {
      "cell_type": "code",
      "metadata": {
        "colab": {
          "base_uri": "https://localhost:8080/"
        },
        "id": "8cqUVBiLqiec",
        "outputId": "96778eab-7004-451b-89fb-12c8ba711869"
      },
      "source": [
        "print(sorted(list, reverse=True))"
      ],
      "execution_count": null,
      "outputs": [
        {
          "output_type": "stream",
          "text": [
            "['The boys', 'The Walking Dead', 'The Vampire Diaries', 'Lost', 'Breaking Bad']\n"
          ],
          "name": "stdout"
        }
      ]
    },
    {
      "cell_type": "code",
      "metadata": {
        "colab": {
          "base_uri": "https://localhost:8080/"
        },
        "id": "rBe9CsJurHrc",
        "outputId": "fb16c39f-83c9-464f-9b4a-f72fa71f69e1"
      },
      "source": [
        "print('You have' , len(list) , 'favorite TV shows')"
      ],
      "execution_count": null,
      "outputs": [
        {
          "output_type": "stream",
          "text": [
            "You have 5 favorite TV shows\n"
          ],
          "name": "stdout"
        }
      ]
    }
  ]
}