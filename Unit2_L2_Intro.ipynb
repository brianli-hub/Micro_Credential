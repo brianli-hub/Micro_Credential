{
  "nbformat": 4,
  "nbformat_minor": 0,
  "metadata": {
    "colab": {
      "name": "Unit2_L2_Intro.ipynb",
      "provenance": [],
      "authorship_tag": "ABX9TyMPptjoFy50A0ihfnhRCuVM"
    },
    "kernelspec": {
      "name": "python3",
      "display_name": "Python 3"
    }
  },
  "cells": [
    {
      "cell_type": "markdown",
      "metadata": {
        "id": "hccrx6jamNi9"
      },
      "source": [
        "# 1. What is Python and why is it useful?\r\n"
      ]
    },
    {
      "cell_type": "markdown",
      "metadata": {
        "id": "gdHhGSgGnPiy"
      },
      "source": [
        "Python is a programming language. It is useful because it allows for development of software, data science, and scripts. "
      ]
    },
    {
      "cell_type": "markdown",
      "metadata": {
        "id": "z7plQf2Qn7NI"
      },
      "source": [
        "# 2. Are the following variable names allowed in python?\r\n",
        "a. 1_message\r\n",
        "b. Greeting_message\r\n",
        "c. Message_1\r\n",
        "d. First name\r\n",
        "e. Full_name"
      ]
    },
    {
      "cell_type": "markdown",
      "metadata": {
        "id": "LF8DDK3ooGGM"
      },
      "source": [
        "A and D are not allowed in python"
      ]
    },
    {
      "cell_type": "code",
      "metadata": {
        "id": "PdF7kapzi80M"
      },
      "source": [
        "#Create a variable that holds the string “hello there!”\r\n",
        "variable = 'hello there!'"
      ],
      "execution_count": null,
      "outputs": []
    },
    {
      "cell_type": "code",
      "metadata": {
        "colab": {
          "base_uri": "https://localhost:8080/"
        },
        "id": "fZnqeW9cjQn9",
        "outputId": "09ff5418-9a02-48b0-96fb-16d58bd09d0e"
      },
      "source": [
        "#Create a variable for first name, last name and an email extension. Concatenating all three together to form an email address. For example: firstnamelastname@gmail.com\r\n",
        "first_name = input(print('Enter your first name'))\r\n",
        "last_name = input(print('Enter your last name'))\r\n",
        "email = input(print('Enter email extension'))\r\n",
        "print(first_name + last_name + email)"
      ],
      "execution_count": null,
      "outputs": [
        {
          "output_type": "stream",
          "text": [
            "Enter your first name\n",
            "Brian\n",
            "Enter your last name\n",
            "Li\n",
            "Enter email extension\n",
            "@gmail.com\n",
            "BrianLi@gmail.com\n"
          ],
          "name": "stdout"
        }
      ]
    },
    {
      "cell_type": "code",
      "metadata": {
        "colab": {
          "base_uri": "https://localhost:8080/"
        },
        "id": "7fUKGUMTj-y3",
        "outputId": "20d742bb-7fa7-4b69-cfda-e7df57e83302"
      },
      "source": [
        "#Store someone you know name in a variable called name. Print their name in lower and uppercase using a method.\r\n",
        "name = 'brian li'\r\n",
        "print(name.lower())\r\n",
        "print(name.upper())"
      ],
      "execution_count": 15,
      "outputs": [
        {
          "output_type": "stream",
          "text": [
            "brian li\n",
            "BRIAN LI\n"
          ],
          "name": "stdout"
        }
      ]
    },
    {
      "cell_type": "code",
      "metadata": {
        "colab": {
          "base_uri": "https://localhost:8080/"
        },
        "id": "QMI0n1TTkjA4",
        "outputId": "79897665-dd71-47d3-e634-1d0c195ff005"
      },
      "source": [
        "#Using a variable, ask your friend if they want to hang out on the 15 th of the month. For example, “Do you want to hang out on the 15 th of this month?” You should have to convert the number to a string.\r\n",
        "hangout = input(print('Do you want to hangout on the 15th of the month?'))"
      ],
      "execution_count": 16,
      "outputs": [
        {
          "output_type": "stream",
          "text": [
            "Do you want to hangout on the 15th of the month?\n",
            "Yes\n"
          ],
          "name": "stdout"
        }
      ]
    }
  ]
}